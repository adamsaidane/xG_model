{
 "cells": [
  {
   "cell_type": "code",
   "execution_count": 1,
   "metadata": {},
   "outputs": [],
   "source": [
    "import pandas as pd\n",
    "import numpy as np\n",
    "import matplotlib.pyplot as plt\n",
    "from mplsoccer import Pitch, VerticalPitch, FontManager\n"
   ]
  },
  {
   "cell_type": "code",
   "execution_count": 2,
   "metadata": {},
   "outputs": [],
   "source": [
    "df_shot=pd.read_csv('shots_data/shots_penalty.csv')"
   ]
  },
  {
   "cell_type": "code",
   "execution_count": 3,
   "metadata": {},
   "outputs": [],
   "source": [
    "df_goals=df_shot[df_shot['shot_outcome']=='Goal'].copy()\n",
    "df_no_goals=df_shot[df_shot['shot_outcome']!='Goal'].copy()"
   ]
  },
  {
   "cell_type": "code",
   "execution_count": 4,
   "metadata": {},
   "outputs": [
    {
     "name": "stdout",
     "output_type": "stream",
     "text": [
      "[0.74045802]\n"
     ]
    }
   ],
   "source": [
    "pitch = VerticalPitch(line_color='black',half=True, pitch_type='custom', pitch_length=120, pitch_width=80, line_zorder = 4,goal_type='box',\n",
    "    goal_alpha=1)\n",
    "bin_statistic = pitch.bin_statistic(df_shot['x'], df_shot['y'], bins = 1)\n",
    "bin_statistic_goals = pitch.bin_statistic(df_goals[\"x\"], df_goals[\"y\"], bins=1)\n",
    "bin_statistic[\"statistic\"] = bin_statistic_goals[\"statistic\"]/bin_statistic[\"statistic\"]\n",
    "bin_statistic[\"statistic\"] = np.nan_to_num(bin_statistic[\"statistic\"], nan=0)\n",
    "non_zero_values = bin_statistic[\"statistic\"][bin_statistic[\"statistic\"] != 0]\n",
    "print(non_zero_values)"
   ]
  }
 ],
 "metadata": {
  "kernelspec": {
   "display_name": "Python 3",
   "language": "python",
   "name": "python3"
  },
  "language_info": {
   "codemirror_mode": {
    "name": "ipython",
    "version": 3
   },
   "file_extension": ".py",
   "mimetype": "text/x-python",
   "name": "python",
   "nbconvert_exporter": "python",
   "pygments_lexer": "ipython3",
   "version": "3.12.4"
  }
 },
 "nbformat": 4,
 "nbformat_minor": 2
}
