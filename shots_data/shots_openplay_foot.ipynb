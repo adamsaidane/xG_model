{
 "cells": [
  {
   "cell_type": "code",
   "execution_count": 4,
   "metadata": {},
   "outputs": [],
   "source": [
    "import pandas as pd\n",
    "import numpy as np"
   ]
  },
  {
   "cell_type": "code",
   "execution_count": 5,
   "metadata": {},
   "outputs": [],
   "source": [
    "df_shot=pd.read_csv('shots.csv')\n",
    "df_shot=df_shot[df_shot['shot_type']=='Open Play']\n",
    "df_shot=df_shot[df_shot['shot_body_part']!='Head']"
   ]
  },
  {
   "cell_type": "code",
   "execution_count": 6,
   "metadata": {},
   "outputs": [
    {
     "name": "stderr",
     "output_type": "stream",
     "text": [
      "C:\\Users\\ADAM\\AppData\\Local\\Temp\\ipykernel_28340\\3220087835.py:18: DeprecationWarning: `np.math` is a deprecated alias for the standard library `math` module (Deprecated Numpy 1.25). Replace usages of `np.math` with `math`\n",
      "  angle = np.math.atan2(np.linalg.det([v0,v1]),np.dot(v0,v1))\n"
     ]
    }
   ],
   "source": [
    "def calculateDistance(x,y):\n",
    "    x_distance=120-x\n",
    "    y_distance=0\n",
    "    if (y<36):\n",
    "        y_distance = 36-y\n",
    "    elif (y>44):\n",
    "        y_distance = y-44\n",
    "    return np.sqrt(y_distance**2+x_distance**2)\n",
    "\n",
    "def calculateAngle(x,y):\n",
    "    g0 = [120, 44]\n",
    "    p = [x, y]\n",
    "    g1 = [120, 36]\n",
    "\n",
    "    v0 = np.array(g0) - np.array(p)\n",
    "    v1 = np.array(g1) - np.array(p)\n",
    "\n",
    "    angle = np.math.atan2(np.linalg.det([v0,v1]),np.dot(v0,v1))\n",
    "    return(abs(np.degrees(angle)))\n",
    "    \n",
    "df_shot['angle'] = df_shot.apply(lambda row:calculateAngle(row['x'], row['y']), axis=1)\n",
    "df_shot['distance'] = df_shot.apply(lambda row:calculateDistance(row['x'], row['y']), axis=1)\n",
    "df_shot['1on1'] = df_shot.apply(lambda row:1 if row['shot_one_on_one']==True else 0, axis=1)\n",
    "df_shot['underPressure'] = df_shot.apply(lambda row:1 if row['under_pressure']==True else 0, axis=1)\n",
    "\n",
    "def calculateDistanceShooterGk(x1,y1,x2,y2):\n",
    "    return np.sqrt((x1 - x2)**2 + (y1 - y2)**2)\n",
    "\n",
    "df_shot['DistanceShooterGk'] = df_shot.apply(\n",
    "    lambda row: calculateDistanceShooterGk(row['x'], row['y'], row['x_gk'], row['y_gk']) \n",
    "    if not row['y_gk']!=np.nan else np.nan, \n",
    "    axis=1\n",
    ")\n",
    "df_shot['DistanceGk'] = df_shot.apply(\n",
    "    lambda row: calculateDistance(row['x_gk'], row['y_gk'])\n",
    "    if not row['y_gk']!=np.nan else np.nan,\n",
    "     axis=1\n",
    ")\n",
    "df_shot['minus'] = df_shot.apply(\n",
    "    lambda row: row['x']-row['x_gk'], axis=1\n",
    ")"
   ]
  },
  {
   "cell_type": "code",
   "execution_count": 7,
   "metadata": {},
   "outputs": [],
   "source": [
    "df_shot.to_csv('shots_openplay_foot.csv', index=False)"
   ]
  }
 ],
 "metadata": {
  "kernelspec": {
   "display_name": "Python 3",
   "language": "python",
   "name": "python3"
  },
  "language_info": {
   "codemirror_mode": {
    "name": "ipython",
    "version": 3
   },
   "file_extension": ".py",
   "mimetype": "text/x-python",
   "name": "python",
   "nbconvert_exporter": "python",
   "pygments_lexer": "ipython3",
   "version": "3.12.4"
  }
 },
 "nbformat": 4,
 "nbformat_minor": 2
}
